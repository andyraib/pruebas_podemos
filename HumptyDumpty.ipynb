{
 "cells": [
  {
   "cell_type": "code",
   "execution_count": 1,
   "metadata": {},
   "outputs": [],
   "source": [
    "#!/usr/bin/env python\n",
    "# -*- coding: utf-8 -*-\n",
    "\n",
    "import sys"
   ]
  },
  {
   "cell_type": "code",
   "execution_count": 2,
   "metadata": {},
   "outputs": [
    {
     "name": "stdout",
     "output_type": "stream",
     "text": [
      "1\n",
      "2\n",
      "Humpty: 3\n",
      "4\n",
      "Dumpty: 5\n",
      "Humpty: 6\n",
      "7\n",
      "8\n",
      "Humpty: 9\n",
      "Dumpty: 10\n",
      "11\n",
      "Humpty: 12\n",
      "13\n",
      "14\n",
      "HumptyDumpty:  15\n",
      "16\n",
      "17\n",
      "Humpty: 18\n",
      "19\n",
      "Dumpty: 20\n",
      "Humpty: 21\n",
      "22\n",
      "23\n",
      "Humpty: 24\n",
      "Dumpty: 25\n",
      "26\n",
      "Humpty: 27\n",
      "28\n",
      "29\n",
      "HumptyDumpty:  30\n",
      "31\n",
      "32\n",
      "Humpty: 33\n",
      "34\n",
      "Dumpty: 35\n",
      "Humpty: 36\n",
      "37\n",
      "38\n",
      "Humpty: 39\n",
      "Dumpty: 40\n",
      "41\n",
      "Humpty: 42\n",
      "43\n",
      "44\n",
      "HumptyDumpty:  45\n",
      "46\n",
      "47\n",
      "Humpty: 48\n",
      "49\n",
      "Dumpty: 50\n",
      "Humpty: 51\n",
      "52\n",
      "53\n",
      "Humpty: 54\n",
      "Dumpty: 55\n",
      "56\n",
      "Humpty: 57\n",
      "58\n",
      "59\n",
      "HumptyDumpty:  60\n",
      "61\n",
      "62\n",
      "Humpty: 63\n",
      "64\n",
      "Dumpty: 65\n",
      "Humpty: 66\n",
      "67\n",
      "68\n",
      "Humpty: 69\n",
      "Dumpty: 70\n",
      "71\n",
      "Humpty: 72\n",
      "73\n",
      "74\n",
      "HumptyDumpty:  75\n",
      "76\n",
      "77\n",
      "Humpty: 78\n",
      "79\n",
      "Dumpty: 80\n",
      "Humpty: 81\n",
      "82\n",
      "83\n",
      "Humpty: 84\n",
      "Dumpty: 85\n",
      "86\n",
      "Humpty: 87\n",
      "88\n",
      "89\n",
      "HumptyDumpty:  90\n",
      "91\n",
      "92\n",
      "Humpty: 93\n",
      "94\n",
      "Dumpty: 95\n",
      "Humpty: 96\n",
      "97\n",
      "98\n",
      "Humpty: 99\n",
      "Dumpty: 100\n"
     ]
    }
   ],
   "source": [
    "## Programa del 1 al 100\n",
    "# Multiplos de 3 == 'Humpty'\n",
    "# Multiplos de 5 == 'Dumpty'\n",
    "# Multiplos de 3 y 5 'HumptyDumpty'\n",
    "\n",
    "for i in range (1,100+1):\n",
    "    if i%3 == 0 and i%5 == 0:\n",
    "        print('HumptyDumpty: ', i)\n",
    "    elif i%3 == 0:\n",
    "        print('Humpty:', i)\n",
    "    elif i%5 == 0:\n",
    "        print('Dumpty:', i)\n",
    "    else:\n",
    "        print(i)\n"
   ]
  },
  {
   "cell_type": "code",
   "execution_count": 3,
   "metadata": {},
   "outputs": [
    {
     "name": "stdout",
     "output_type": "stream",
     "text": [
      "233168\n"
     ]
    }
   ],
   "source": [
    "## Suma de numeros naturales debajo del 1000\n",
    "# MUltiplos de 3 o 5 \n",
    "\n",
    "print(sum(int(v) for v in range(1,1000) if v%3 == 0 or v%5 == 0))\n",
    "\n"
   ]
  }
 ],
 "metadata": {
  "kernelspec": {
   "display_name": "Python 3",
   "language": "python",
   "name": "python3"
  },
  "language_info": {
   "codemirror_mode": {
    "name": "ipython",
    "version": 3
   },
   "file_extension": ".py",
   "mimetype": "text/x-python",
   "name": "python",
   "nbconvert_exporter": "python",
   "pygments_lexer": "ipython3",
   "version": "3.6.7"
  }
 },
 "nbformat": 4,
 "nbformat_minor": 2
}
