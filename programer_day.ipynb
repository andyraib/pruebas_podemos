{
 "cells": [
  {
   "cell_type": "code",
   "execution_count": null,
   "metadata": {},
   "outputs": [],
   "source": [
    "#!/usr/bin/env python\n",
    "# coding: utf-8"
   ]
  },
  {
   "cell_type": "code",
   "execution_count": null,
   "metadata": {},
   "outputs": [],
   "source": [
    "import sys\n",
    "from datetime import datetime\n",
    "from translate import Translator\n",
    "import locale\n",
    "\n",
    "locale.setlocale(locale.LC_ALL,'es_ES.UTF-8')\n",
    "\n",
    "## dia del programador \n",
    "\n"
   ]
  },
  {
   "cell_type": "code",
   "execution_count": null,
   "metadata": {},
   "outputs": [],
   "source": [
    "# Validar si el año es correcto\n",
    "\n",
    "def validate_year(year):\n",
    "\ttry:\n",
    "   \t\tvalue_year = int(year)\n",
    "   \t\tvalidate_year = value_year > 0 and len(year) == 4\n",
    "   \t\tif validate_year == False:\n",
    "   \t\t\tprint(\"Year is not valid\")\n",
    "   \t\treturn validate_year\n",
    "\texcept ValueError:\n",
    "   \t\tprint(\"Year is not validate\")\n",
    "   \t\treturn False"
   ]
  },
  {
   "cell_type": "code",
   "execution_count": null,
   "metadata": {},
   "outputs": [],
   "source": [
    "# Validar si el día corresponde al rango \n",
    "def validate_day(day):\n",
    "\ttry:\n",
    "\t\tvalue_day = int(day)\n",
    "\t\tvalidate_range=range(1,366)\n",
    "\t\tday_correct = value_day in validate_range\n",
    "\t\tif day_correct is False:\n",
    "\t\t\tprint(\"Day is not valid\")\t\t\t\n",
    "\t\treturn day_correct\n",
    "\texcept ValueError:\n",
    "\t\tprint(\"Day is not valid\")\n",
    "\t\treturn False"
   ]
  },
  {
   "cell_type": "code",
   "execution_count": null,
   "metadata": {},
   "outputs": [],
   "source": [
    "# Traducir al ruso el día y el mes del año\n",
    "def translate_word(word,translate_lang):\n",
    "\ttranslator= Translator(from_lang='spanish', to_lang=translate_lang)\n",
    "\ttranslation = translator.translate(word)\n",
    "\t\n",
    "\treturn translation"
   ]
  },
  {
   "cell_type": "code",
   "execution_count": null,
   "metadata": {},
   "outputs": [],
   "source": [
    "# Validar el día del programdor de acuerdo al año y el día\n",
    "def get_year_day(year,day):\n",
    "\tval_year = validate_year(year)\n",
    "\tval_day = validate_day(day)\n",
    "\tif val_year and val_day:\n",
    "\t\tint_year = int(year)\n",
    "\t\tdate = str(year) + \" \" + str(day)\n",
    "\t\tget_date = datetime.strptime(date, '%Y %j')\n",
    "\t\tget_month = get_date.strftime('%B')\n",
    "\t\tget_day = get_date.strftime('%A')\n",
    "\t\tget_day_w = get_date.strftime('%d')\n",
    "\t\trange_years = range(2003,2009)\n",
    "\t\tnow = datetime.now()\n",
    "\t\tif int_year < 2003:\n",
    "\t\t\tprint('Oh, Esta celebración no existia aún')\t\t\n",
    "\t\telif int_year in range_years:\n",
    "\t\t\tget_month_translate = translate_word(get_month,'russian')\n",
    "\t\t\tget_day_translate = translate_word(get_day,'russian')\n",
    "\t\t\tprint(\"Den' programmista {} goda sostoyalsyao {}  {}  iz {}\".format(year,get_day_translate,get_day_w,get_month_translate))\n",
    "\t\telif get_date.strftime('%y%m%d')< now.strftime('%y%m%d') :\n",
    "\t\t\tprint(\"El día del programador del a\\u00f1o {} se celebró el {}  {} de {}\".format(year,get_day,get_day_w,get_month))\n",
    "\t\telif get_date.strftime('%y%m%d')> now.strftime('%y%m%d') :\n",
    "\t\t\tprint(\"El día del programador del a\\u00f1o {} se celebrará el {}  {} de {}\".format(year,get_day,get_day_w,get_month))\n",
    "\t\telif get_date.strftime('%y%m%d') == now.strftime('%y%m%d'):\n",
    "\t\t\tprint(\"EL día del programador se celebra hoy! Felicidades!\")"
   ]
  },
  {
   "cell_type": "code",
   "execution_count": null,
   "metadata": {},
   "outputs": [],
   "source": [
    "def main(args):\n",
    "\tif len(sys.argv)-1 == 1:\n",
    "\t\tyear = args[1]\n",
    "\t\tday = 256\n",
    "\t\tget_year_day(year,day)\n",
    "\telif len(sys.argv)-1 == 2:\n",
    "\t\tyear = args[1]\n",
    "\t\tday = args[2]\n",
    "\t\tget_year_day(year,day)\n",
    "\telse:\n",
    "\t\tprint(\"Error, Please  put a year (or a day if you want)\")"
   ]
  },
  {
   "cell_type": "code",
   "execution_count": null,
   "metadata": {},
   "outputs": [],
   "source": [
    "if __name__ == '__main__':\n",
    "    main(sys.argv)\n",
    "\n"
   ]
  }
 ],
 "metadata": {
  "kernelspec": {
   "display_name": "Python 3",
   "language": "python",
   "name": "python3"
  },
  "language_info": {
   "codemirror_mode": {
    "name": "ipython",
    "version": 3
   },
   "file_extension": ".py",
   "mimetype": "text/x-python",
   "name": "python",
   "nbconvert_exporter": "python",
   "pygments_lexer": "ipython3",
   "version": "3.6.7"
  }
 },
 "nbformat": 4,
 "nbformat_minor": 2
}
